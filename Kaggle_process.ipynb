{
 "cells": [
  {
   "cell_type": "markdown",
   "metadata": {},
   "source": [
    "Download data from kaggle"
   ]
  },
  {
   "cell_type": "code",
   "execution_count": 1,
   "metadata": {},
   "outputs": [
    {
     "name": "stdout",
     "output_type": "stream",
     "text": [
      "Collecting kaggle\n",
      "\u001b[?25l  Downloading https://files.pythonhosted.org/packages/78/3a/64a6447e5faa313b70cb555e21b5a30718c95bcc4902d91784b57fbab737/kaggle-1.5.3.tar.gz (54kB)\n",
      "\u001b[K    100% |████████████████████████████████| 61kB 190kB/s ta 0:00:01\n",
      "\u001b[?25hRequirement already satisfied: urllib3<1.25,>=1.21.1 in /anaconda3/lib/python3.6/site-packages (from kaggle) (1.23)\n",
      "Requirement already satisfied: six>=1.10 in /anaconda3/lib/python3.6/site-packages (from kaggle) (1.11.0)\n",
      "Requirement already satisfied: certifi in /anaconda3/lib/python3.6/site-packages (from kaggle) (2018.11.29)\n",
      "Requirement already satisfied: python-dateutil in /anaconda3/lib/python3.6/site-packages (from kaggle) (2.7.5)\n",
      "Requirement already satisfied: requests in /anaconda3/lib/python3.6/site-packages (from kaggle) (2.21.0)\n",
      "Requirement already satisfied: tqdm in /anaconda3/lib/python3.6/site-packages (from kaggle) (4.28.1)\n",
      "Collecting python-slugify (from kaggle)\n",
      "  Downloading https://files.pythonhosted.org/packages/c1/19/c3cf1dc65e89aa999f85a4a3a4924ccac765a6964b405d487b7b7c8bb39f/python-slugify-3.0.2.tar.gz\n",
      "Requirement already satisfied: idna<2.9,>=2.5 in /anaconda3/lib/python3.6/site-packages (from requests->kaggle) (2.7)\n",
      "Requirement already satisfied: chardet<3.1.0,>=3.0.2 in /anaconda3/lib/python3.6/site-packages (from requests->kaggle) (3.0.4)\n",
      "Collecting text-unidecode==1.2 (from python-slugify->kaggle)\n",
      "\u001b[?25l  Downloading https://files.pythonhosted.org/packages/79/42/d717cc2b4520fb09e45b344b1b0b4e81aa672001dd128c180fabc655c341/text_unidecode-1.2-py2.py3-none-any.whl (77kB)\n",
      "\u001b[K    100% |████████████████████████████████| 81kB 511kB/s ta 0:00:01\n",
      "\u001b[?25hBuilding wheels for collected packages: kaggle, python-slugify\n",
      "  Running setup.py bdist_wheel for kaggle ... \u001b[?25ldone\n",
      "\u001b[?25h  Stored in directory: /Users/joannwu/Library/Caches/pip/wheels/ee/97/c5/87dcdc9434fe4e632ed5945e31a03703af229db178ef6a00e8\n",
      "  Running setup.py bdist_wheel for python-slugify ... \u001b[?25ldone\n",
      "\u001b[?25h  Stored in directory: /Users/joannwu/Library/Caches/pip/wheels/16/7f/c3/6b0582283ad589d68a306da924a78c74546e010d8106b9b3a9\n",
      "Successfully built kaggle python-slugify\n",
      "Installing collected packages: text-unidecode, python-slugify, kaggle\n",
      "Successfully installed kaggle-1.5.3 python-slugify-3.0.2 text-unidecode-1.2\n"
     ]
    }
   ],
   "source": [
    "!pip install kaggle"
   ]
  },
  {
   "cell_type": "code",
   "execution_count": 4,
   "metadata": {},
   "outputs": [
    {
     "name": "stdout",
     "output_type": "stream",
     "text": [
      "Downloading item_categories.csv to /Users/joannwu/Desktop/DSAI-HW3-Kaggle-Competition\n",
      "  0%|                                               | 0.00/3.49k [00:00<?, ?B/s]\n",
      "100%|██████████████████████████████████████| 3.49k/3.49k [00:00<00:00, 2.55MB/s]\n",
      "Downloading items.csv to /Users/joannwu/Desktop/DSAI-HW3-Kaggle-Competition\n",
      " 67%|█████████████████████████▍            | 1.00M/1.50M [00:00<00:00, 5.90MB/s]\n",
      "100%|██████████████████████████████████████| 1.50M/1.50M [00:00<00:00, 6.03MB/s]\n",
      "Downloading shops.csv to /Users/joannwu/Desktop/DSAI-HW3-Kaggle-Competition\n",
      "  0%|                                               | 0.00/2.91k [00:00<?, ?B/s]\n",
      "100%|██████████████████████████████████████| 2.91k/2.91k [00:00<00:00, 2.36MB/s]\n",
      "Downloading sample_submission.csv.gz to /Users/joannwu/Desktop/DSAI-HW3-Kaggle-Competition\n",
      "  0%|                                                | 0.00/469k [00:00<?, ?B/s]\n",
      "100%|████████████████████████████████████████| 469k/469k [00:00<00:00, 7.50MB/s]\n",
      "Downloading test.csv.gz to /Users/joannwu/Desktop/DSAI-HW3-Kaggle-Competition\n",
      " 99%|█████████████████████████████████████▋| 1.00M/1.01M [00:00<00:00, 6.81MB/s]\n",
      "100%|██████████████████████████████████████| 1.01M/1.01M [00:00<00:00, 6.79MB/s]\n",
      "Downloading sales_train.csv.gz to /Users/joannwu/Desktop/DSAI-HW3-Kaggle-Competition\n",
      "100%|██████████████████████████████████████| 12.9M/12.9M [00:02<00:00, 6.57MB/s]\n",
      "\n"
     ]
    }
   ],
   "source": [
    "!kaggle competitions download -c competitive-data-science-predict-future-sales"
   ]
  },
  {
   "cell_type": "code",
   "execution_count": 12,
   "metadata": {},
   "outputs": [
    {
     "name": "stdout",
     "output_type": "stream",
     "text": [
      "total 198536\r\n",
      "-rw-r--r--  1 joannwu  staff      7635  5 12 18:41 Untitled.ipynb\r\n",
      "-rw-r--r--  1 joannwu  staff      3573  5 12 15:12 item_categories.csv\r\n",
      "-rw-r--r--  1 joannwu  staff   1568417  5 12 15:12 items.csv\r\n",
      "-rw-r--r--@ 1 joannwu  staff     24451  5 12 18:39 predict_future_sales_xgboost.ipynb\r\n",
      "-rw-r--r--  1 joannwu  staff  94603866  5 12 15:12 sales_train.csv\r\n",
      "-rw-r--r--  1 joannwu  staff   2245108  5 12 15:12 sample_submission.csv\r\n",
      "-rw-r--r--  1 joannwu  staff      2977  5 12 15:12 shops.csv\r\n",
      "-rw-r--r--  1 joannwu  staff   3182735  5 12 15:12 test.csv\r\n"
     ]
    }
   ],
   "source": [
    "!ls -l"
   ]
  },
  {
   "cell_type": "code",
   "execution_count": 11,
   "metadata": {},
   "outputs": [],
   "source": [
    "!gunzip test.csv.gz"
   ]
  },
  {
   "cell_type": "code",
   "execution_count": 13,
   "metadata": {},
   "outputs": [
    {
     "name": "stdout",
     "output_type": "stream",
     "text": [
      "100%|███████████████████████████████████████| 3.58M/3.58M [00:10<00:00, 350kB/s]\n",
      "Successfully submitted to Predict Future Sales"
     ]
    }
   ],
   "source": [
    "!kaggle competitions submit -c competitive-data-science-predict-future-sales -f submission.csv -m \"Message\""
   ]
  },
  {
   "cell_type": "code",
   "execution_count": null,
   "metadata": {},
   "outputs": [],
   "source": []
  }
 ],
 "metadata": {
  "kernelspec": {
   "display_name": "Python 3",
   "language": "python",
   "name": "python3"
  },
  "language_info": {
   "codemirror_mode": {
    "name": "ipython",
    "version": 3
   },
   "file_extension": ".py",
   "mimetype": "text/x-python",
   "name": "python",
   "nbconvert_exporter": "python",
   "pygments_lexer": "ipython3",
   "version": "3.6.8"
  }
 },
 "nbformat": 4,
 "nbformat_minor": 2
}
